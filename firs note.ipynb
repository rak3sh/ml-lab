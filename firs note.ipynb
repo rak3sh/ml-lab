{
 "cells": [
  {
   "cell_type": "code",
   "execution_count": 7,
   "metadata": {},
   "outputs": [
    {
     "name": "stdout",
     "output_type": "stream",
     "text": [
      "99\n",
      "percent invisible\n",
      "99 percent invisible\n",
      "percent invisible 99\n"
     ]
    }
   ],
   "source": [
    "#### variable declaration\n",
    "\n",
    "### integers\n",
    "\n",
    "i=99\n",
    "print (i)\n",
    "\n",
    "name ='percent invisible'\n",
    "print(name)\n",
    "\n",
    "print (i,name)\n",
    "print (name + \" \" + str(i))"
   ]
  },
  {
   "cell_type": "code",
   "execution_count": 3,
   "metadata": {},
   "outputs": [
    {
     "name": "stdout",
     "output_type": "stream",
     "text": [
      "[100, 120, 140, 160, 180, 200]\n",
      "[100, 120, 140]\n",
      "180\n",
      "2\n",
      "3\n",
      "london\n",
      "4\n",
      "7\n",
      "ond\n",
      "['london', 'berlin', 'chennai', 'poznan']\n"
     ]
    }
   ],
   "source": [
    "### lists\n",
    "\n",
    "# len prints numbre of elements for array and number of characters for string; integer has no len\n",
    "\n",
    "price = [100,120,140,160,180,200]\n",
    "cities = ['london', 'berlin', 'chennai', 'poznan']\n",
    "\n",
    "print (price) ## total array\n",
    "\n",
    "print (price [0:3]) ## from index 0 to 3\n",
    "print (price [-2]) ## second index from right\n",
    "\n",
    "print(len(price[0:2])) ## number of elements\n",
    "print(len(str(price[0])))\n",
    "\n",
    "print (cities[0])\n",
    "\n",
    "print(len(cities)) ## number of elements in array\n",
    "print (len(cities[2])) ## number of letters in the string\n",
    "print(cities[0][1:4]) # print 2nd to 4th letter of the string\n",
    "print(cities[:]) # prints entire array"
   ]
  },
  {
   "cell_type": "code",
   "execution_count": 8,
   "metadata": {},
   "outputs": [
    {
     "name": "stdout",
     "output_type": "stream",
     "text": [
      "[140, 160, 180, 200, 250, 250]\n",
      "[140, 160, 130, 180, 200, 250, 250]\n",
      "[140, 160, 180, 200, 250, 250]\n",
      "[140, 160, 180, 200, 250]\n"
     ]
    }
   ],
   "source": [
    "price.append(250) ## appends item to the end\n",
    "print(price) \n",
    "\n",
    "price.insert(2,130) # inserts item in between\n",
    "print(price)\n",
    "\n",
    "price.remove(130) #removes the value 130\n",
    "print(price)\n",
    "\n",
    "\n",
    "price.pop(-1) # removes the last item\n",
    "print(price)"
   ]
  },
  {
   "cell_type": "code",
   "execution_count": 21,
   "metadata": {},
   "outputs": [
    {
     "name": "stdout",
     "output_type": "stream",
     "text": [
      "100\n",
      "{'mumbai': 120, 'delhi': 300, 'london': 100}\n"
     ]
    }
   ],
   "source": [
    "## Dictionary\n",
    "\n",
    "\n",
    "population = {\"chennai\":100, \"mumbai\":120, \"delhi\":300}\n",
    "\n",
    "population.update({'london':100}) # add item to dictionary\n",
    "print(population['chennai'])\n",
    "\n",
    "population.pop('chennai') # pop name chennai\n",
    "print(population)"
   ]
  },
  {
   "cell_type": "code",
   "execution_count": 22,
   "metadata": {},
   "outputs": [
    {
     "name": "stdout",
     "output_type": "stream",
     "text": [
      "3\n"
     ]
    }
   ],
   "source": [
    "#conversions\n",
    "\n",
    "cost = 100\n",
    "print(len(str(100))) # converts integer to string and then prints length"
   ]
  },
  {
   "cell_type": "code",
   "execution_count": 26,
   "metadata": {},
   "outputs": [
    {
     "name": "stdout",
     "output_type": "stream",
     "text": [
      "price is lowest\n"
     ]
    }
   ],
   "source": [
    "# conditionals\n",
    "\n",
    "if (price[0]==140):\n",
    "    print('price is lowest')\n",
    "\n",
    "else:\n",
    "    print('price can reduce')\n",
    "    print('beautiful')"
   ]
  },
  {
   "cell_type": "code",
   "execution_count": 54,
   "metadata": {},
   "outputs": [
    {
     "name": "stdout",
     "output_type": "stream",
     "text": [
      "london\n",
      "berlin\n",
      "chennai\n",
      "poznan\n",
      "london\n",
      "berlin\n",
      "chennai\n",
      "poznan\n"
     ]
    }
   ],
   "source": [
    "# loop\n",
    "\n",
    "for i in range(0,len(cities)):\n",
    "    print(cities[i])\n",
    "    \n",
    "i=0\n",
    "while (i<len(cities)):\n",
    "    print(cities[i])\n",
    "    i +=1\n",
    "    "
   ]
  },
  {
   "cell_type": "code",
   "execution_count": 55,
   "metadata": {},
   "outputs": [
    {
     "name": "stdout",
     "output_type": "stream",
     "text": [
      "(0, 'london')\n",
      "(1, 'berlin')\n",
      "(2, 'chennai')\n",
      "(3, 'poznan')\n",
      "\n",
      "\n",
      "enumerating dictionary\n",
      "dict_keys(['mumbai', 'delhi', 'london'])\n",
      "(0, 120)\n",
      "(1, 300)\n",
      "(2, 100)\n"
     ]
    }
   ],
   "source": [
    "# enumerate\n",
    "\n",
    "for i in enumerate(cities):\n",
    "    print (i)\n",
    "\n",
    "    \n",
    "print ('\\n\\nenumerating dictionary')\n",
    "\n",
    "print(population.keys())\n",
    "for i in enumerate(population.values()):\n",
    "    print (i)\n"
   ]
  },
  {
   "cell_type": "code",
   "execution_count": 64,
   "metadata": {},
   "outputs": [
    {
     "name": "stdout",
     "output_type": "stream",
     "text": [
      "500\n"
     ]
    }
   ],
   "source": [
    "# FUNCTIONS\n",
    "\n",
    "j=100\n",
    "def do_something(a,b):\n",
    "    global j\n",
    "    fact = a *b * j\n",
    "    print(fact)\n",
    "\n",
    "do_something(1,5)"
   ]
  },
  {
   "cell_type": "code",
   "execution_count": 71,
   "metadata": {},
   "outputs": [
    {
     "data": {
      "application/json": {
       "cell": {
        "!": "OSMagics",
        "HTML": "Other",
        "SVG": "Other",
        "bash": "Other",
        "capture": "ExecutionMagics",
        "cmd": "Other",
        "debug": "ExecutionMagics",
        "file": "Other",
        "html": "DisplayMagics",
        "javascript": "DisplayMagics",
        "js": "DisplayMagics",
        "latex": "DisplayMagics",
        "markdown": "DisplayMagics",
        "perl": "Other",
        "prun": "ExecutionMagics",
        "pypy": "Other",
        "python": "Other",
        "python2": "Other",
        "python3": "Other",
        "ruby": "Other",
        "script": "ScriptMagics",
        "sh": "Other",
        "svg": "DisplayMagics",
        "sx": "OSMagics",
        "system": "OSMagics",
        "time": "ExecutionMagics",
        "timeit": "ExecutionMagics",
        "writefile": "OSMagics"
       },
       "line": {
        "alias": "OSMagics",
        "alias_magic": "BasicMagics",
        "autocall": "AutoMagics",
        "automagic": "AutoMagics",
        "autosave": "KernelMagics",
        "bookmark": "OSMagics",
        "cd": "OSMagics",
        "clear": "KernelMagics",
        "cls": "KernelMagics",
        "colors": "BasicMagics",
        "config": "ConfigMagics",
        "connect_info": "KernelMagics",
        "copy": "Other",
        "ddir": "Other",
        "debug": "ExecutionMagics",
        "dhist": "OSMagics",
        "dirs": "OSMagics",
        "doctest_mode": "BasicMagics",
        "echo": "Other",
        "ed": "Other",
        "edit": "KernelMagics",
        "env": "OSMagics",
        "gui": "BasicMagics",
        "hist": "Other",
        "history": "HistoryMagics",
        "killbgscripts": "ScriptMagics",
        "ldir": "Other",
        "less": "KernelMagics",
        "load": "CodeMagics",
        "load_ext": "ExtensionMagics",
        "loadpy": "CodeMagics",
        "logoff": "LoggingMagics",
        "logon": "LoggingMagics",
        "logstart": "LoggingMagics",
        "logstate": "LoggingMagics",
        "logstop": "LoggingMagics",
        "ls": "Other",
        "lsmagic": "BasicMagics",
        "macro": "ExecutionMagics",
        "magic": "BasicMagics",
        "matplotlib": "PylabMagics",
        "mkdir": "Other",
        "more": "KernelMagics",
        "notebook": "BasicMagics",
        "page": "BasicMagics",
        "pastebin": "CodeMagics",
        "pdb": "ExecutionMagics",
        "pdef": "NamespaceMagics",
        "pdoc": "NamespaceMagics",
        "pfile": "NamespaceMagics",
        "pinfo": "NamespaceMagics",
        "pinfo2": "NamespaceMagics",
        "pip": "BasicMagics",
        "popd": "OSMagics",
        "pprint": "BasicMagics",
        "precision": "BasicMagics",
        "profile": "BasicMagics",
        "prun": "ExecutionMagics",
        "psearch": "NamespaceMagics",
        "psource": "NamespaceMagics",
        "pushd": "OSMagics",
        "pwd": "OSMagics",
        "pycat": "OSMagics",
        "pylab": "PylabMagics",
        "qtconsole": "KernelMagics",
        "quickref": "BasicMagics",
        "recall": "HistoryMagics",
        "rehashx": "OSMagics",
        "reload_ext": "ExtensionMagics",
        "ren": "Other",
        "rep": "Other",
        "rerun": "HistoryMagics",
        "reset": "NamespaceMagics",
        "reset_selective": "NamespaceMagics",
        "rmdir": "Other",
        "run": "ExecutionMagics",
        "save": "CodeMagics",
        "sc": "OSMagics",
        "set_env": "OSMagics",
        "store": "StoreMagics",
        "sx": "OSMagics",
        "system": "OSMagics",
        "tb": "ExecutionMagics",
        "time": "ExecutionMagics",
        "timeit": "ExecutionMagics",
        "unalias": "OSMagics",
        "unload_ext": "ExtensionMagics",
        "who": "NamespaceMagics",
        "who_ls": "NamespaceMagics",
        "whos": "NamespaceMagics",
        "xdel": "NamespaceMagics",
        "xmode": "BasicMagics"
       }
      },
      "text/plain": [
       "Available line magics:\n",
       "%alias  %alias_magic  %autocall  %automagic  %autosave  %bookmark  %cd  %clear  %cls  %colors  %config  %connect_info  %copy  %ddir  %debug  %dhist  %dirs  %doctest_mode  %echo  %ed  %edit  %env  %gui  %hist  %history  %killbgscripts  %ldir  %less  %load  %load_ext  %loadpy  %logoff  %logon  %logstart  %logstate  %logstop  %ls  %lsmagic  %macro  %magic  %matplotlib  %mkdir  %more  %notebook  %page  %pastebin  %pdb  %pdef  %pdoc  %pfile  %pinfo  %pinfo2  %popd  %pprint  %precision  %profile  %prun  %psearch  %psource  %pushd  %pwd  %pycat  %pylab  %qtconsole  %quickref  %recall  %rehashx  %reload_ext  %ren  %rep  %rerun  %reset  %reset_selective  %rmdir  %run  %save  %sc  %set_env  %store  %sx  %system  %tb  %time  %timeit  %unalias  %unload_ext  %who  %who_ls  %whos  %xdel  %xmode\n",
       "\n",
       "Available cell magics:\n",
       "%%!  %%HTML  %%SVG  %%bash  %%capture  %%cmd  %%debug  %%file  %%html  %%javascript  %%js  %%latex  %%markdown  %%perl  %%prun  %%pypy  %%python  %%python2  %%python3  %%ruby  %%script  %%sh  %%svg  %%sx  %%system  %%time  %%timeit  %%writefile\n",
       "\n",
       "Automagic is ON, % prefix IS NOT needed for line magics."
      ]
     },
     "execution_count": 71,
     "metadata": {},
     "output_type": "execute_result"
    }
   ],
   "source": [
    "%lsmagic"
   ]
  },
  {
   "cell_type": "code",
   "execution_count": 77,
   "metadata": {},
   "outputs": [
    {
     "name": "stdout",
     "output_type": "stream",
     "text": [
      "Stored variables and their in-db values:\n"
     ]
    }
   ],
   "source": [
    "store"
   ]
  }
 ],
 "metadata": {
  "kernelspec": {
   "display_name": "Python 3",
   "language": "python",
   "name": "python3"
  },
  "language_info": {
   "codemirror_mode": {
    "name": "ipython",
    "version": 3
   },
   "file_extension": ".py",
   "mimetype": "text/x-python",
   "name": "python",
   "nbconvert_exporter": "python",
   "pygments_lexer": "ipython3",
   "version": "3.6.5"
  }
 },
 "nbformat": 4,
 "nbformat_minor": 2
}
