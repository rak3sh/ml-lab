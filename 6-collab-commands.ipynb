{
 "cells": [
  {
   "cell_type": "code",
   "execution_count": null,
   "metadata": {
    "colab": {},
    "colab_type": "code",
    "id": "673mpP5ibjAj"
   },
   "outputs": [],
   "source": [
    "!pip install -U -q PyDrive\n",
    "from pydrive.auth import GoogleAuth\n",
    "from pydrive.drive import GoogleDrive\n",
    "from google.colab import auth\n",
    "from oauth2client.client import GoogleCredentials\n",
    "\n",
    " \n",
    "#1. Authenticate and create the PyDrive client.\n",
    "auth.authenticate_user()\n",
    "gauth = GoogleAuth()\n",
    "gauth.credentials = GoogleCredentials.get_application_default()\n",
    "drive = GoogleDrive(gauth)"
   ]
  },
  {
   "cell_type": "code",
   "execution_count": null,
   "metadata": {
    "colab": {},
    "colab_type": "code",
    "id": "mF_wUZFJ5Zi-"
   },
   "outputs": [],
   "source": [
    "#2. Upload the file from Google Drive to colab\n",
    "downloaded = drive.CreateFile({'id':'https://drive.google.com/open?id=<fileid>'}) # replace the id with id of file you want to access\n",
    "downloaded.GetContentFile('Sample_data.csv') "
   ]
  },
  {
   "cell_type": "code",
   "execution_count": null,
   "metadata": {
    "colab": {},
    "colab_type": "code",
    "id": "aYKLGnp5blkd"
   },
   "outputs": [],
   "source": [
    "#3. Alternatively, browse local machine, select the files to upload\n",
    "from google.colab import files\n",
    "uploaded = files.upload() # used to upload noshow_appointments.csv"
   ]
  },
  {
   "cell_type": "code",
   "execution_count": null,
   "metadata": {
    "colab": {},
    "colab_type": "code",
    "id": "KKpSLAiG0OJ4"
   },
   "outputs": [],
   "source": [
    "#4. Download from colab to local machine\n",
    "files.download('adc.json')"
   ]
  },
  {
   "cell_type": "code",
   "execution_count": null,
   "metadata": {
    "colab": {
     "base_uri": "https://localhost:8080/",
     "height": 683
    },
    "colab_type": "code",
    "executionInfo": {
     "elapsed": 10726,
     "status": "ok",
     "timestamp": 1537076740312,
     "user": {
      "displayName": "Raja B",
      "photoUrl": "//lh3.googleusercontent.com/-HMP4KV_7AY4/AAAAAAAAAAI/AAAAAAAAAAA/0T-66Atc1_g/s50-c-k-no/photo.jpg",
      "userId": "107712560993636481637"
     },
     "user_tz": -330
    },
    "id": "bYD-7pyOtZgS",
    "outputId": "820c2125-1c89-432b-9a39-a562e4882f4f"
   },
   "outputs": [],
   "source": [
    "!ls\n",
    "!cat adc.json"
   ]
  }
 ],
 "metadata": {
  "colab": {
   "collapsed_sections": [],
   "name": "colabfile_open.ipynb",
   "provenance": [],
   "version": "0.3.2"
  },
  "kernelspec": {
   "display_name": "Python 3",
   "language": "python",
   "name": "python3"
  },
  "language_info": {
   "codemirror_mode": {
    "name": "ipython",
    "version": 3
   },
   "file_extension": ".py",
   "mimetype": "text/x-python",
   "name": "python",
   "nbconvert_exporter": "python",
   "pygments_lexer": "ipython3",
   "version": "3.6.5"
  }
 },
 "nbformat": 4,
 "nbformat_minor": 1
}
